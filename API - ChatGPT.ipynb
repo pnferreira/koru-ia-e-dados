{
 "cells": [
  {
   "cell_type": "code",
   "execution_count": 1,
   "id": "255a2fcc-9893-47d4-b594-6113976c4b8a",
   "metadata": {},
   "outputs": [],
   "source": [
    "#pip install openai"
   ]
  },
  {
   "cell_type": "code",
   "execution_count": 22,
   "id": "1ed51794",
   "metadata": {},
   "outputs": [
    {
     "name": "stdout",
     "output_type": "stream",
     "text": [
      "No mundo da programação, existe um conceito,\n",
      "Que desafia a lógica e inspira respeito.\n",
      "Chama-se recursão, uma técnica singular,\n",
      "Que nos leva a explorar e a codificar.\n",
      "\n",
      "Imagine uma função que a si mesma chama,\n",
      "Um ciclo de poder sem que o tempo reclama.\n",
      "Ela se repete, sem medo de errar,\n",
      "Até que o resultado desejado possa alcançar.\n",
      "\n",
      "Assim como o eco que ressoa na montanha,\n",
      "A recursão se espalha e se entranha.\n",
      "Em sintonia com a matemática abstrata,\n",
      "Multiplicando possibilidades de forma exata.\n",
      "\n",
      "Como uma miragem que se reflete no espelho,\n",
      "A recursão cria padrões de um modo vermelho.\n",
      "Seja buscando caminhos em um labirinto virtual,\n",
      "Ou calculando fatoriais de forma natural.\n",
      "\n",
      "Então, querido aprendiz, compreenda essa lição,\n",
      "Recursão é a dança da programação.\n",
      "Um jogo de voltas, uma dança sem fim,\n",
      "Que nos leva a explorar o código, até chegar ao fim.\n"
     ]
    }
   ],
   "source": [
    "from openai import OpenAI\n",
    "client = OpenAI()\n",
    "\n",
    "completion = client.chat.completions.create(\n",
    "  model=\"gpt-3.5-turbo-1106\",\n",
    "  messages=[\n",
    "    {\"role\": \"system\", \"content\": \"Você é um assistente poético, hábil em explicar conceitos complexos de programação com talento criativo.\"},\n",
    "    {\"role\": \"user\", \"content\": \"Componha um poema que explique o conceito de recursão em programação.\"}\n",
    "  ]\n",
    ")\n",
    "\n",
    "print(completion.choices[0].message.content)"
   ]
  },
  {
   "cell_type": "code",
   "execution_count": null,
   "id": "7d750a15-f179-4db2-8fbd-ddc33f3a614e",
   "metadata": {},
   "outputs": [],
   "source": []
  },
  {
   "cell_type": "code",
   "execution_count": 3,
   "id": "b21fbf04",
   "metadata": {},
   "outputs": [],
   "source": [
    "#gpt-4\n",
    "#gpt-3.5-turbo-1106"
   ]
  },
  {
   "cell_type": "code",
   "execution_count": 4,
   "id": "56453885",
   "metadata": {},
   "outputs": [],
   "source": [
    "from openai import OpenAI\n",
    "import os \n",
    "client = OpenAI()\n",
    "\n",
    "def llm_response(prompt):\n",
    "    response = client.chat.completions.create(\n",
    "        model='gpt-3.5-turbo',\n",
    "        messages=[{'role':'user','content':prompt}],\n",
    "        temperature=0\n",
    "    )\n",
    "    return response.choices[0].message.content"
   ]
  },
  {
   "cell_type": "code",
   "execution_count": 19,
   "id": "909dff22",
   "metadata": {},
   "outputs": [
    {
     "data": {
      "text/plain": [
       "['O mochi é excelente!',\n",
       " 'Os melhores bolinhos de sopa que já comi.',\n",
       " 'Não vale a pena esperar 3 meses por uma reserva.',\n",
       " 'As toalhas coloridas me fizeram sorrir!',\n",
       " 'A massa estava fria.']"
      ]
     },
     "execution_count": 19,
     "metadata": {},
     "output_type": "execute_result"
    }
   ],
   "source": [
    "all_reviews = [\n",
    "    'O mochi é excelente!',\n",
    "    'Os melhores bolinhos de sopa que já comi.',\n",
    "    'Não vale a pena esperar 3 meses por uma reserva.',\n",
    "    'As toalhas coloridas me fizeram sorrir!',\n",
    "    'A massa estava fria.'\n",
    "]\n",
    "\n",
    "all_reviews"
   ]
  },
  {
   "cell_type": "code",
   "execution_count": 20,
   "id": "465474b3",
   "metadata": {},
   "outputs": [
    {
     "data": {
      "text/plain": [
       "['positiva', 'positiva', 'negativa', 'positiva', 'negativa']"
      ]
     },
     "execution_count": 20,
     "metadata": {},
     "output_type": "execute_result"
    }
   ],
   "source": [
    "all_sentiments = []\n",
    "for review in all_reviews:\n",
    "    prompt = f'''\n",
    "        Classifique a seguinte revisão\n",
    "        como tendo um resultado positivo ou\n",
    "        sentimento negativo. Indique sua resposta\n",
    "        como uma única palavra, seja \"positiva\" ou\n",
    "        \"negativa\":\n",
    "\n",
    "        {review}\n",
    "        '''\n",
    "    response = llm_response(prompt)\n",
    "    all_sentiments.append(response)\n",
    "\n",
    "all_sentiments"
   ]
  },
  {
   "cell_type": "code",
   "execution_count": 21,
   "id": "7a131147",
   "metadata": {},
   "outputs": [
    {
     "name": "stdout",
     "output_type": "stream",
     "text": [
      "Temos 3 reviews positivas.\n",
      "Temos 2 reviews negativas.\n"
     ]
    }
   ],
   "source": [
    "num_positive = 0\n",
    "num_negative = 0\n",
    "num_neutral = 0\n",
    "for sentiment in all_sentiments:\n",
    "    if sentiment == 'positiva':\n",
    "        num_positive += 1\n",
    "    elif sentiment == 'negativa':\n",
    "        num_negative += 1\n",
    "print(f\"Temos {num_positive} reviews positivas.\\nTemos {num_negative} reviews negativas.\")"
   ]
  },
  {
   "cell_type": "code",
   "execution_count": null,
   "id": "80d91c48",
   "metadata": {},
   "outputs": [],
   "source": []
  },
  {
   "cell_type": "code",
   "execution_count": null,
   "id": "53199b1d",
   "metadata": {},
   "outputs": [],
   "source": []
  },
  {
   "cell_type": "code",
   "execution_count": null,
   "id": "e7660196",
   "metadata": {},
   "outputs": [],
   "source": []
  },
  {
   "cell_type": "code",
   "execution_count": null,
   "id": "528f6696",
   "metadata": {},
   "outputs": [],
   "source": []
  },
  {
   "cell_type": "code",
   "execution_count": null,
   "id": "85618cf6-d56e-4676-9136-b982665c591e",
   "metadata": {},
   "outputs": [],
   "source": []
  }
 ],
 "metadata": {
  "kernelspec": {
   "display_name": "Python 3 (ipykernel)",
   "language": "python",
   "name": "python3"
  },
  "language_info": {
   "codemirror_mode": {
    "name": "ipython",
    "version": 3
   },
   "file_extension": ".py",
   "mimetype": "text/x-python",
   "name": "python",
   "nbconvert_exporter": "python",
   "pygments_lexer": "ipython3",
   "version": "3.11.5"
  }
 },
 "nbformat": 4,
 "nbformat_minor": 5
}
